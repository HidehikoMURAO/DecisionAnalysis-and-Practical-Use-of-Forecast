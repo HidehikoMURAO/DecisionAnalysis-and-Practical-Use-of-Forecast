{
 "cells": [
  {
   "cell_type": "markdown",
   "id": "9ef4909c",
   "metadata": {},
   "source": [
    "# 意思決定分析と予測の活用 第3章 Pythonによる分析の準備"
   ]
  },
  {
   "cell_type": "markdown",
   "id": "handed-frost",
   "metadata": {},
   "source": [
    "## 3.2 Pythonによる分析の準備"
   ]
  },
  {
   "cell_type": "code",
   "execution_count": 1,
   "id": "98da6adb",
   "metadata": {},
   "outputs": [],
   "source": [
    "# 数値計算に使うライブラリ\n",
    "import numpy as np\n",
    "import pandas as pd\n",
    "# DataFrameの全角文字の出力をきれいにする\n",
    "pd.set_option('display.unicode.east_asian_width', True)"
   ]
  },
  {
   "cell_type": "markdown",
   "id": "wound-theta",
   "metadata": {},
   "source": [
    "## 3.3 利得行列の作成"
   ]
  },
  {
   "cell_type": "markdown",
   "id": "substantial-capitol",
   "metadata": {},
   "source": [
    "### 3.3.1 パラメータの設定"
   ]
  },
  {
   "cell_type": "code",
   "execution_count": 2,
   "id": "controlled-vitamin",
   "metadata": {},
   "outputs": [],
   "source": [
    "# 利得を計算する際のパラメータ\n",
    "fixed_cost = 100  # こうじょうの固定費用（万円）\n",
    "run_cost = 600    # 機械1台の稼働コスト（万円）\n",
    "sale_price = 0.2  # 製品1つの販売価格（万円）\n",
    "\n",
    "machine_ability = 5000 # 機械1台で作られる製品数（個）\n",
    "demand_boom = 10000    # 好況時の需要量（個）\n",
    "demand_slump = 5000    # 不況時の需要量（個）"
   ]
  },
  {
   "cell_type": "markdown",
   "id": "british-carbon",
   "metadata": {},
   "source": [
    "### 3.3.2 計算方法の確認"
   ]
  },
  {
   "cell_type": "code",
   "execution_count": 3,
   "id": "random-encounter",
   "metadata": {},
   "outputs": [
    {
     "name": "stdout",
     "output_type": "stream",
     "text": [
      "      0台   1台    2台\n",
      "好況    0  5000  10000\n",
      "不況    0  5000   5000\n"
     ]
    }
   ],
   "source": [
    "# 出荷される製品の個数\n",
    "num_product_df = pd.DataFrame({\n",
    "    '0台': [0, 0],\n",
    "    '1台': [min([machine_ability, demand_boom]),\n",
    "            min([machine_ability, demand_slump])],\n",
    "    '2台': [min([machine_ability * 2, demand_boom]), \n",
    "            min([machine_ability * 2, demand_slump])]\n",
    "})\n",
    "num_product_df.index = ['好況', '不況']\n",
    "print(num_product_df)"
   ]
  },
  {
   "cell_type": "code",
   "execution_count": 4,
   "id": "least-configuration",
   "metadata": {},
   "outputs": [
    {
     "name": "stdout",
     "output_type": "stream",
     "text": [
      "      0台     1台     2台\n",
      "好況  0.0  1000.0  2000.0\n",
      "不況  0.0  1000.0  1000.0\n"
     ]
    }
   ],
   "source": [
    "# 売上行列\n",
    "sales_df = num_product_df * sale_price\n",
    "print(sales_df)"
   ]
  },
  {
   "cell_type": "code",
   "execution_count": 5,
   "id": "beginning-success",
   "metadata": {},
   "outputs": [
    {
     "name": "stdout",
     "output_type": "stream",
     "text": [
      "      0台  1台   2台\n",
      "好況  100  700  1300\n",
      "不況  100  700  1300\n"
     ]
    }
   ],
   "source": [
    "# 製造コスト\n",
    "run_cost_df = pd.DataFrame({\n",
    "    '0台': np.repeat(fixed_cost,                2),\n",
    "    '1台': np.repeat(fixed_cost + run_cost,     2),\n",
    "    '2台': np.repeat(fixed_cost + run_cost * 2, 2)\n",
    "})\n",
    "run_cost_df.index = ['好況', '不況']\n",
    "print(run_cost_df)"
   ]
  },
  {
   "cell_type": "code",
   "execution_count": 6,
   "id": "acknowledged-complex",
   "metadata": {},
   "outputs": [
    {
     "name": "stdout",
     "output_type": "stream",
     "text": [
      "        0台    1台    2台\n",
      "好況 -100.0  300.0  700.0\n",
      "不況 -100.0  300.0 -300.0\n"
     ]
    }
   ],
   "source": [
    "# 利得行列\n",
    "payoff_df = sales_df - run_cost_df\n",
    "print(payoff_df)"
   ]
  },
  {
   "cell_type": "markdown",
   "id": "brazilian-riding",
   "metadata": {},
   "source": [
    "### 3.3.3 効率的な実装"
   ]
  },
  {
   "cell_type": "code",
   "execution_count": 7,
   "id": "anonymous-wireless",
   "metadata": {},
   "outputs": [],
   "source": [
    "def calc_payoff_table(fixed_cost, run_cost, sale_price, \n",
    "                      machine_ability, demand_boom, demand_slump): \n",
    "    # 出荷される製品の個数\n",
    "    num_product_df = pd.DataFrame({\n",
    "        '0台': [0, 0],\n",
    "        '1台': [min([machine_ability, demand_boom]),\n",
    "                min([machine_ability, demand_slump])],\n",
    "        '2台': [min([machine_ability * 2, demand_boom]), \n",
    "                min([machine_ability * 2, demand_slump])]\n",
    "    })\n",
    "    # 売上行列\n",
    "    sales_df = num_product_df * sale_price\n",
    "    # 製造コスト\n",
    "    run_cost_df = pd.DataFrame({\n",
    "        '0台': np.repeat(fixed_cost,                2),\n",
    "        '1台': np.repeat(fixed_cost + run_cost,     2),\n",
    "        '2台': np.repeat(fixed_cost + run_cost * 2, 2)\n",
    "    })\n",
    "    # 利得行列\n",
    "    payoff_df = sales_df - run_cost_df\n",
    "    payoff_df.index = ['好況', '不況']\n",
    "    #結果を返す\n",
    "    return(payoff_df)"
   ]
  },
  {
   "cell_type": "code",
   "execution_count": 8,
   "id": "preliminary-poker",
   "metadata": {},
   "outputs": [
    {
     "name": "stdout",
     "output_type": "stream",
     "text": [
      "        0台    1台    2台\n",
      "好況 -100.0  300.0  700.0\n",
      "不況 -100.0  300.0 -300.0\n"
     ]
    }
   ],
   "source": [
    "# 利得行列の計算\n",
    "payoff = calc_payoff_table(fixed_cost = 100, run_cost = 600, sale_price = 0.2, \n",
    "                           machine_ability = 5000, demand_boom = 10000, \n",
    "                           demand_slump = 5000)\n",
    "print(payoff)"
   ]
  },
  {
   "cell_type": "code",
   "execution_count": null,
   "id": "adapted-uruguay",
   "metadata": {},
   "outputs": [],
   "source": []
  }
 ],
 "metadata": {
  "kernelspec": {
   "display_name": "Python 3",
   "language": "python",
   "name": "python3"
  },
  "language_info": {
   "codemirror_mode": {
    "name": "ipython",
    "version": 3
   },
   "file_extension": ".py",
   "mimetype": "text/x-python",
   "name": "python",
   "nbconvert_exporter": "python",
   "pygments_lexer": "ipython3",
   "version": "3.9.14"
  }
 },
 "nbformat": 4,
 "nbformat_minor": 5
}
