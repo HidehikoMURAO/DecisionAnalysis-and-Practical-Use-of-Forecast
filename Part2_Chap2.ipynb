{
 "cells": [
  {
   "cell_type": "markdown",
   "id": "ambient-little",
   "metadata": {},
   "source": [
    "# 意思決定分析と予測の活用  第二部 決定分析の基本 第2章 Pythonの導入"
   ]
  },
  {
   "cell_type": "markdown",
   "id": "foster-jersey",
   "metadata": {},
   "source": [
    "## 2.2 list"
   ]
  },
  {
   "cell_type": "code",
   "execution_count": 1,
   "id": "southeast-trace",
   "metadata": {},
   "outputs": [
    {
     "data": {
      "text/plain": [
       "[1, 2, 3]"
      ]
     },
     "execution_count": 1,
     "metadata": {},
     "output_type": "execute_result"
    }
   ],
   "source": [
    "# list\n",
    "nums = [1, 2, 3]\n",
    "nums"
   ]
  },
  {
   "cell_type": "markdown",
   "id": "continent-jamaica",
   "metadata": {},
   "source": [
    "## 2.3 関数の作成"
   ]
  },
  {
   "cell_type": "code",
   "execution_count": 2,
   "id": "diverse-problem",
   "metadata": {},
   "outputs": [],
   "source": [
    "# 関数の作成\n",
    "def my_func(in_value):   # 関数を作る際には，行頭に def と，行末にコロン : をつける．\n",
    "    out_value = in_value * 10    # 関数の内部はインデントが必須．\n",
    "    return(out_value)    # 結果を返す際には return 関数を使う．"
   ]
  },
  {
   "cell_type": "code",
   "execution_count": 3,
   "id": "framed-confusion",
   "metadata": {},
   "outputs": [
    {
     "data": {
      "text/plain": [
       "50"
      ]
     },
     "execution_count": 3,
     "metadata": {},
     "output_type": "execute_result"
    }
   ],
   "source": [
    "my_func(in_value = 5)"
   ]
  },
  {
   "cell_type": "code",
   "execution_count": 4,
   "id": "fallen-station",
   "metadata": {},
   "outputs": [
    {
     "data": {
      "text/plain": [
       "50"
      ]
     },
     "execution_count": 4,
     "metadata": {},
     "output_type": "execute_result"
    }
   ],
   "source": [
    "my_func(5)"
   ]
  },
  {
   "cell_type": "markdown",
   "id": "derived-cooperation",
   "metadata": {},
   "source": [
    "## 2.4 numpyとpandasの初歩"
   ]
  },
  {
   "cell_type": "code",
   "execution_count": 5,
   "id": "working-livestock",
   "metadata": {},
   "outputs": [],
   "source": [
    "# 数値計算に使うライブラリ\n",
    "import numpy as np\n",
    "import pandas as pd"
   ]
  },
  {
   "cell_type": "code",
   "execution_count": 6,
   "id": "pressed-lingerie",
   "metadata": {},
   "outputs": [
    {
     "data": {
      "text/plain": [
       "array([1, 2])"
      ]
     },
     "execution_count": 6,
     "metadata": {},
     "output_type": "execute_result"
    }
   ],
   "source": [
    "# numpyのndarray（1次元）\n",
    "array_1 = np.array([1, 2])\n",
    "array_1"
   ]
  },
  {
   "cell_type": "code",
   "execution_count": 7,
   "id": "fewer-convention",
   "metadata": {},
   "outputs": [
    {
     "data": {
      "text/plain": [
       "array([2, 3])"
      ]
     },
     "execution_count": 7,
     "metadata": {},
     "output_type": "execute_result"
    }
   ],
   "source": [
    "array_1 + 1"
   ]
  },
  {
   "cell_type": "markdown",
   "id": "narrow-empty",
   "metadata": {},
   "source": [
    "## 2.6 pandasのDataFrame"
   ]
  },
  {
   "cell_type": "code",
   "execution_count": 8,
   "id": "painful-junction",
   "metadata": {},
   "outputs": [
    {
     "name": "stdout",
     "output_type": "stream",
     "text": [
      "      column1  column2\n",
      "row1        1        4\n",
      "row2        2        5\n",
      "row3        3        6\n"
     ]
    }
   ],
   "source": [
    "# pandasのDataFrame\n",
    "df_1 = pd.DataFrame({\n",
    "    'column1': [1, 2, 3], \n",
    "    'column2': [4, 5, 6]\n",
    "})\n",
    "df_1.index = ['row1', 'row2', 'row3']\n",
    "print(df_1)"
   ]
  },
  {
   "cell_type": "markdown",
   "id": "worst-cameroon",
   "metadata": {},
   "source": [
    "## 2.7 pandasのSeries"
   ]
  },
  {
   "cell_type": "code",
   "execution_count": 9,
   "id": "younger-jenny",
   "metadata": {},
   "outputs": [
    {
     "data": {
      "text/plain": [
       "idx1    7\n",
       "idx2    8\n",
       "dtype: int64"
      ]
     },
     "execution_count": 9,
     "metadata": {},
     "output_type": "execute_result"
    }
   ],
   "source": [
    "# pandasのSeries\n",
    "series_1 = pd.Series([7, 8])\n",
    "series_1.index = ['idx1', 'idx2']\n",
    "series_1"
   ]
  },
  {
   "cell_type": "code",
   "execution_count": 10,
   "id": "early-thread",
   "metadata": {},
   "outputs": [
    {
     "name": "stdout",
     "output_type": "stream",
     "text": [
      "row1    1\n",
      "row2    2\n",
      "row3    3\n",
      "Name: column1, dtype: int64\n"
     ]
    }
   ],
   "source": [
    "# df_1の1列目だけを取り出す\n",
    "series_2 = df_1['column1']\n",
    "print(series_2)"
   ]
  },
  {
   "cell_type": "markdown",
   "id": "reliable-causing",
   "metadata": {},
   "source": [
    "## 2.8 DataFrameの演算"
   ]
  },
  {
   "cell_type": "code",
   "execution_count": 11,
   "id": "honey-catalog",
   "metadata": {},
   "outputs": [
    {
     "name": "stdout",
     "output_type": "stream",
     "text": [
      "      column1  column2\n",
      "row1        2        5\n",
      "row2        3        6\n",
      "row3        4        7\n"
     ]
    }
   ],
   "source": [
    "# iを足す\n",
    "print(df_1 + 1)"
   ]
  },
  {
   "cell_type": "code",
   "execution_count": 12,
   "id": "nutritional-strap",
   "metadata": {},
   "outputs": [
    {
     "name": "stdout",
     "output_type": "stream",
     "text": [
      "      column1  column2\n",
      "row1        2        5\n",
      "row2        3        6\n",
      "row3        4        7\n"
     ]
    }
   ],
   "source": [
    "# iを足す\n",
    "print(df_1.add(1))"
   ]
  },
  {
   "cell_type": "markdown",
   "id": "acknowledged-power",
   "metadata": {},
   "source": [
    "## 2.9 DataFrameの行や列を対象とした演算"
   ]
  },
  {
   "cell_type": "code",
   "execution_count": 13,
   "id": "quiet-allowance",
   "metadata": {},
   "outputs": [
    {
     "data": {
      "text/plain": [
       "column1    3\n",
       "column2    6\n",
       "dtype: int64"
      ]
     },
     "execution_count": 13,
     "metadata": {},
     "output_type": "execute_result"
    }
   ],
   "source": [
    "# 列ごとに最大値を取得する\n",
    "df_1.max()"
   ]
  },
  {
   "cell_type": "code",
   "execution_count": 14,
   "id": "optimum-shoulder",
   "metadata": {},
   "outputs": [
    {
     "data": {
      "text/plain": [
       "row1    4\n",
       "row2    5\n",
       "row3    6\n",
       "dtype: int64"
      ]
     },
     "execution_count": 14,
     "metadata": {},
     "output_type": "execute_result"
    }
   ],
   "source": [
    "# 行ごとに最大値を取得する\n",
    "df_1.max(axis=1)"
   ]
  },
  {
   "cell_type": "markdown",
   "id": "olympic-green",
   "metadata": {},
   "source": [
    "## 2.10 DataFrameに対する関数の適用"
   ]
  },
  {
   "cell_type": "code",
   "execution_count": 15,
   "id": "another-consolidation",
   "metadata": {},
   "outputs": [
    {
     "data": {
      "text/plain": [
       "2.0"
      ]
     },
     "execution_count": 15,
     "metadata": {},
     "output_type": "execute_result"
    }
   ],
   "source": [
    "# 底が2である大数の計算\n",
    "np.log2(4)"
   ]
  },
  {
   "cell_type": "code",
   "execution_count": 16,
   "id": "thirty-bernard",
   "metadata": {},
   "outputs": [
    {
     "name": "stdout",
     "output_type": "stream",
     "text": [
      "       column1   column2\n",
      "row1  0.000000  2.000000\n",
      "row2  1.000000  2.321928\n",
      "row3  1.584963  2.584963\n"
     ]
    }
   ],
   "source": [
    "# すべての数値の対数をとる．行と列が保持される．\n",
    "print(df_1.apply(np.log2))"
   ]
  },
  {
   "cell_type": "code",
   "execution_count": 17,
   "id": "unlikely-geometry",
   "metadata": {},
   "outputs": [
    {
     "data": {
      "text/plain": [
       "column1     6\n",
       "column2    15\n",
       "dtype: int64"
      ]
     },
     "execution_count": 17,
     "metadata": {},
     "output_type": "execute_result"
    }
   ],
   "source": [
    "# 列ごとに合計値を計算する\n",
    "df_1.apply(np.sum, axis=0)"
   ]
  },
  {
   "cell_type": "code",
   "execution_count": 18,
   "id": "neutral-nerve",
   "metadata": {},
   "outputs": [
    {
     "data": {
      "text/plain": [
       "row1    5\n",
       "row2    7\n",
       "row3    9\n",
       "dtype: int64"
      ]
     },
     "execution_count": 18,
     "metadata": {},
     "output_type": "execute_result"
    }
   ],
   "source": [
    "# 行ごとに合計値を計算する\n",
    "df_1.apply(np.sum, axis=1)"
   ]
  },
  {
   "cell_type": "code",
   "execution_count": 19,
   "id": "forbidden-leisure",
   "metadata": {},
   "outputs": [
    {
     "data": {
      "text/plain": [
       "row1    5\n",
       "row2    7\n",
       "row3    9\n",
       "dtype: int64"
      ]
     },
     "execution_count": 19,
     "metadata": {},
     "output_type": "execute_result"
    }
   ],
   "source": [
    "# 合計値を計算する場合は以下のようにしても良い\n",
    "df_1.sum(axis=1)"
   ]
  },
  {
   "cell_type": "code",
   "execution_count": null,
   "id": "decreased-protest",
   "metadata": {},
   "outputs": [],
   "source": []
  }
 ],
 "metadata": {
  "kernelspec": {
   "display_name": "Python 3",
   "language": "python",
   "name": "python3"
  },
  "language_info": {
   "codemirror_mode": {
    "name": "ipython",
    "version": 3
   },
   "file_extension": ".py",
   "mimetype": "text/x-python",
   "name": "python",
   "nbconvert_exporter": "python",
   "pygments_lexer": "ipython3",
   "version": "3.9.14"
  }
 },
 "nbformat": 4,
 "nbformat_minor": 5
}
