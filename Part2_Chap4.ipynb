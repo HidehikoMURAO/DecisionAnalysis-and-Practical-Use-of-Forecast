{
 "cells": [
  {
   "cell_type": "markdown",
   "id": "northern-wound",
   "metadata": {},
   "source": [
    "# 意思決定分析と予測の活用 第二部 決定分析の基本 第4章 期待値の基づく意思決定"
   ]
  },
  {
   "cell_type": "markdown",
   "id": "grateful-uncertainty",
   "metadata": {},
   "source": [
    "## 4.1 Pythonによる分析の準備"
   ]
  },
  {
   "cell_type": "code",
   "execution_count": 1,
   "id": "adjacent-fisher",
   "metadata": {},
   "outputs": [],
   "source": [
    "# 数値計算に使うライブラリ\n",
    "import numpy as np\n",
    "import pandas as pd\n",
    "# DataFrameの全角文字の出力をきれいにする\n",
    "pd.set_option('display.unicode.east_asian_width', True)"
   ]
  },
  {
   "cell_type": "markdown",
   "id": "stretch-confidentiality",
   "metadata": {},
   "source": [
    "## 4.4 期待金額に基づく意思決定"
   ]
  },
  {
   "cell_type": "markdown",
   "id": "introductory-homeless",
   "metadata": {},
   "source": [
    "## 4.4.3 Python 実装: 計算方法の確認"
   ]
  },
  {
   "cell_type": "code",
   "execution_count": 2,
   "id": "scenic-consumption",
   "metadata": {},
   "outputs": [
    {
     "name": "stdout",
     "output_type": "stream",
     "text": [
      "      0台   1台   2台 \n",
      "好況  -100   300   700\n",
      "不況  -100   300  -300\n"
     ]
    }
   ],
   "source": [
    "payoff = pd.DataFrame({\n",
    "    '0台 ': [-100, -100], \n",
    "    '1台 ': [300, 300], \n",
    "    '2台 ': [700, -300]\n",
    "})\n",
    "payoff.index = ['好況', '不況']\n",
    "print(payoff)"
   ]
  },
  {
   "cell_type": "code",
   "execution_count": 3,
   "id": "balanced-fisher",
   "metadata": {},
   "outputs": [
    {
     "data": {
      "text/plain": [
       "好況    0.4\n",
       "不況    0.6\n",
       "dtype: float64"
      ]
     },
     "execution_count": 3,
     "metadata": {},
     "output_type": "execute_result"
    }
   ],
   "source": [
    "# 好況と不況の確率\n",
    "prob_state = pd.Series([0.4, 0.6])\n",
    "prob_state.index = ['好況', '不況']\n",
    "prob_state"
   ]
  },
  {
   "cell_type": "code",
   "execution_count": 4,
   "id": "sticky-finding",
   "metadata": {},
   "outputs": [
    {
     "name": "stdout",
     "output_type": "stream",
     "text": [
      "      0台    1台    2台 \n",
      "好況 -40.0  120.0  280.0\n",
      "不況 -60.0  180.0 -180.0\n"
     ]
    }
   ],
   "source": [
    "# 利得 x 確率\n",
    "print(payoff.mul(prob_state, axis = 0))"
   ]
  },
  {
   "cell_type": "code",
   "execution_count": 5,
   "id": "another-estate",
   "metadata": {},
   "outputs": [
    {
     "data": {
      "text/plain": [
       "0台    -100.0\n",
       "1台     300.0\n",
       "2台     100.0\n",
       "dtype: float64"
      ]
     },
     "execution_count": 5,
     "metadata": {},
     "output_type": "execute_result"
    }
   ],
   "source": [
    "# 各々の行動をとったときの期待値\n",
    "env = payoff.mul(prob_state, axis = 0).sum()\n",
    "env"
   ]
  },
  {
   "cell_type": "code",
   "execution_count": 6,
   "id": "studied-begin",
   "metadata": {},
   "outputs": [],
   "source": [
    "# 最大値をとるインデックスを取得する．最大値が複数ある場合はすべて出力する\n",
    "def argmax_list(series): \n",
    "    return(list(series[series == series.max()].index))"
   ]
  },
  {
   "cell_type": "code",
   "execution_count": 7,
   "id": "posted-laptop",
   "metadata": {},
   "outputs": [
    {
     "data": {
      "text/plain": [
       "['1台 ']"
      ]
     },
     "execution_count": 7,
     "metadata": {},
     "output_type": "execute_result"
    }
   ],
   "source": [
    "# 期待値が最大となる行動\n",
    "argmax_list(env)"
   ]
  },
  {
   "cell_type": "markdown",
   "id": "designed-questionnaire",
   "metadata": {},
   "source": [
    "## 4.4.4 Python実装: 効率的な実装"
   ]
  },
  {
   "cell_type": "code",
   "execution_count": 8,
   "id": "failing-regression",
   "metadata": {},
   "outputs": [],
   "source": [
    "# 期待金額最大化に基づく意思決定を行う関数\n",
    "def max_env(probs, payoff_table): \n",
    "    env = payoff.mul(prob_state, axis = 0).sum()\n",
    "    max_env = env.max()\n",
    "    a_star = argmax_list(env)\n",
    "    return(pd.Series([a_star, max_env], index = ['選択肢', '期待金額']))"
   ]
  },
  {
   "cell_type": "code",
   "execution_count": 9,
   "id": "cutting-cricket",
   "metadata": {},
   "outputs": [
    {
     "data": {
      "text/plain": [
       "選択肢      [1台 ]\n",
       "期待金額     300.0\n",
       "dtype: object"
      ]
     },
     "execution_count": 9,
     "metadata": {},
     "output_type": "execute_result"
    }
   ],
   "source": [
    "max_env(prob_state, payoff)"
   ]
  },
  {
   "cell_type": "markdown",
   "id": "signal-wisdom",
   "metadata": {},
   "source": [
    "## 4.5 期待値のシミュレーション"
   ]
  },
  {
   "cell_type": "markdown",
   "id": "thirty-cambridge",
   "metadata": {},
   "source": [
    "## 4.5.1 Pythonによる乱数生成"
   ]
  },
  {
   "cell_type": "code",
   "execution_count": 10,
   "id": "retired-majority",
   "metadata": {},
   "outputs": [
    {
     "name": "stdout",
     "output_type": "stream",
     "text": [
      "[ 700 -300 -300  700 -300 -300  700 -300 -300 -300]\n",
      "[-300 -300 -300  700 -300  700  700 -300 -300 -300]\n"
     ]
    }
   ],
   "source": [
    "# 確率0.4で「700」が，確率0.6で「-300」が出る\n",
    "print(np.random.choice([700, -300], size = 10, p = [0.4, 0.6]))\n",
    "print(np.random.choice([700, -300], size = 10, p = [0.4, 0.6]))"
   ]
  },
  {
   "cell_type": "code",
   "execution_count": 11,
   "id": "contrary-slide",
   "metadata": {},
   "outputs": [
    {
     "name": "stdout",
     "output_type": "stream",
     "text": [
      "[-300 -300  700  700  700  700  700  700  700 -300]\n",
      "[-300 -300  700  700  700  700  700  700  700 -300]\n"
     ]
    }
   ],
   "source": [
    "# 乱数の種を指定する\n",
    "np.random.seed(1)\n",
    "print(np.random.choice([700, -300], size = 10, p = [0.4, 0.6]))\n",
    "np.random.seed(1)\n",
    "print(np.random.choice([700, -300], size = 10, p = [0.4, 0.6]))"
   ]
  },
  {
   "cell_type": "markdown",
   "id": "solved-proportion",
   "metadata": {},
   "source": [
    "## 4.5.2 期待値のシミュレーション"
   ]
  },
  {
   "cell_type": "code",
   "execution_count": 12,
   "id": "difficult-alcohol",
   "metadata": {},
   "outputs": [],
   "source": [
    "# 500万個の乱数の生成\n",
    "np.random.seed(1)\n",
    "simulation = np.random.choice([700, -300], size = 5000000, p = [0.4, 0.6])"
   ]
  },
  {
   "cell_type": "code",
   "execution_count": 13,
   "id": "superb-style",
   "metadata": {},
   "outputs": [
    {
     "name": "stdout",
     "output_type": "stream",
     "text": [
      "期待値 : 100.0\n",
      "平均値 : 100.0\n"
     ]
    }
   ],
   "source": [
    "# 期待値と平均値\n",
    "print('期待値 :', np.sum(np.array([700, -300]) * np.array([0.4, 0.6])))\n",
    "print('平均値 :', simulation.mean().round(1))"
   ]
  },
  {
   "cell_type": "code",
   "execution_count": null,
   "id": "strong-strategy",
   "metadata": {},
   "outputs": [],
   "source": []
  }
 ],
 "metadata": {
  "kernelspec": {
   "display_name": "Python 3",
   "language": "python",
   "name": "python3"
  },
  "language_info": {
   "codemirror_mode": {
    "name": "ipython",
    "version": 3
   },
   "file_extension": ".py",
   "mimetype": "text/x-python",
   "name": "python",
   "nbconvert_exporter": "python",
   "pygments_lexer": "ipython3",
   "version": "3.9.14"
  }
 },
 "nbformat": 4,
 "nbformat_minor": 5
}
