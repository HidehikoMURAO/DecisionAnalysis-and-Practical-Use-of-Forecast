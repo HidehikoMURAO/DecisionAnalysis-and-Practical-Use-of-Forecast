{
 "cells": [
  {
   "cell_type": "markdown",
   "id": "northern-wound",
   "metadata": {},
   "source": [
    "# 意思決定分析と予測の活用 第二部 決定分析の基本 第4章 情報の量"
   ]
  },
  {
   "cell_type": "markdown",
   "id": "grateful-uncertainty",
   "metadata": {},
   "source": [
    "## 5.1 Pythonによる分析の準備"
   ]
  },
  {
   "cell_type": "code",
   "execution_count": 1,
   "id": "adjacent-fisher",
   "metadata": {},
   "outputs": [],
   "source": [
    "# 数値計算に使うライブラリ\n",
    "import numpy as np\n",
    "import pandas as pd\n",
    "# DataFrameの全角文字の出力をきれいにする\n",
    "pd.set_option('display.unicode.east_asian_width', True)\n",
    "# 本文の数値と合わせるために，小数点以下3桁で丸める\n",
    "pd.set_option('display.precision', 3)"
   ]
  },
  {
   "cell_type": "markdown",
   "id": "stretch-confidentiality",
   "metadata": {},
   "source": [
    "## 5.4.4 Python 実装：関数の作成"
   ]
  },
  {
   "cell_type": "code",
   "execution_count": 2,
   "id": "scenic-consumption",
   "metadata": {},
   "outputs": [],
   "source": [
    "def self_info(prob): \n",
    "    return(-1 * np.log2(prob))"
   ]
  },
  {
   "cell_type": "markdown",
   "id": "collaborative-listening",
   "metadata": {},
   "source": [
    "## 5.4.5 Python 実装：自己情報量の計算"
   ]
  },
  {
   "cell_type": "code",
   "execution_count": 3,
   "id": "sticky-finding",
   "metadata": {},
   "outputs": [
    {
     "name": "stdout",
     "output_type": "stream",
     "text": [
      "6の目が出たとわかったときの自己情報量： 2.58\n"
     ]
    }
   ],
   "source": [
    "i_6 = self_info(1/6)\n",
    "print(f'6の目が出たとわかったときの自己情報量：{i_6: .3g}')"
   ]
  },
  {
   "cell_type": "code",
   "execution_count": 4,
   "id": "strong-strategy",
   "metadata": {},
   "outputs": [
    {
     "name": "stdout",
     "output_type": "stream",
     "text": [
      "3の倍数とわかったときの自己情報量： 1.58\n",
      "偶数であるとわかったときの自己情報量： 1\n",
      "情報を小出しにされたときの自己情報量： 2.58\n"
     ]
    }
   ],
   "source": [
    "i_3mul = self_info(1/3)\n",
    "i_even = self_info(1/2)\n",
    "print(f'3の倍数とわかったときの自己情報量：{i_3mul: .3g}')\n",
    "print(f'偶数であるとわかったときの自己情報量：{i_even: .3g}')\n",
    "print(f'情報を小出しにされたときの自己情報量：{i_3mul + i_even: .3g}')"
   ]
  },
  {
   "cell_type": "code",
   "execution_count": null,
   "id": "turned-hierarchy",
   "metadata": {},
   "outputs": [],
   "source": []
  }
 ],
 "metadata": {
  "kernelspec": {
   "display_name": "Python 3",
   "language": "python",
   "name": "python3"
  },
  "language_info": {
   "codemirror_mode": {
    "name": "ipython",
    "version": 3
   },
   "file_extension": ".py",
   "mimetype": "text/x-python",
   "name": "python",
   "nbconvert_exporter": "python",
   "pygments_lexer": "ipython3",
   "version": "3.9.14"
  }
 },
 "nbformat": 4,
 "nbformat_minor": 5
}
