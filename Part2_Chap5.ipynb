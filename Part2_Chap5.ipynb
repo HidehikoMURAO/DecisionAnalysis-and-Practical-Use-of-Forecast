{
 "cells": [
  {
   "cell_type": "markdown",
   "id": "northern-wound",
   "metadata": {},
   "source": [
    "# 意思決定分析と予測の活用 第二部 決定分析の基本 第4章 情報の量"
   ]
  },
  {
   "cell_type": "markdown",
   "id": "grateful-uncertainty",
   "metadata": {},
   "source": [
    "## 5.1 Pythonによる分析の準備"
   ]
  },
  {
   "cell_type": "code",
   "execution_count": 1,
   "id": "adjacent-fisher",
   "metadata": {},
   "outputs": [],
   "source": [
    "# 数値計算に使うライブラリ\n",
    "import numpy as np\n",
    "import pandas as pd\n",
    "# DataFrameの全角文字の出力をきれいにする\n",
    "pd.set_option('display.unicode.east_asian_width', True)\n",
    "# 本文の数値と合わせるために，小数点以下3桁で丸める\n",
    "pd.set_option('display.precision', 3)"
   ]
  },
  {
   "cell_type": "markdown",
   "id": "stretch-confidentiality",
   "metadata": {},
   "source": [
    "## 5.4.4 Python 実装：関数の作成"
   ]
  },
  {
   "cell_type": "code",
   "execution_count": 2,
   "id": "scenic-consumption",
   "metadata": {},
   "outputs": [],
   "source": [
    "def self_info(prob): \n",
    "    return(-1 * np.log2(prob))"
   ]
  },
  {
   "cell_type": "markdown",
   "id": "collaborative-listening",
   "metadata": {},
   "source": [
    "## 5.4.5 Python 実装：自己情報量の計算"
   ]
  },
  {
   "cell_type": "code",
   "execution_count": 3,
   "id": "sticky-finding",
   "metadata": {},
   "outputs": [
    {
     "name": "stdout",
     "output_type": "stream",
     "text": [
      "6の目が出たとわかったときの自己情報量： 2.58\n"
     ]
    }
   ],
   "source": [
    "i_6 = self_info(1/6)\n",
    "print(f'6の目が出たとわかったときの自己情報量：{i_6: .3g}')"
   ]
  },
  {
   "cell_type": "code",
   "execution_count": 4,
   "id": "strong-strategy",
   "metadata": {},
   "outputs": [
    {
     "name": "stdout",
     "output_type": "stream",
     "text": [
      "3の倍数とわかったときの自己情報量： 1.58\n",
      "偶数であるとわかったときの自己情報量： 1\n",
      "情報を小出しにされたときの自己情報量： 2.58\n"
     ]
    }
   ],
   "source": [
    "i_3mul = self_info(1/3)\n",
    "i_even = self_info(1/2)\n",
    "print(f'3の倍数とわかったときの自己情報量：{i_3mul: .3g}')\n",
    "print(f'偶数であるとわかったときの自己情報量：{i_even: .3g}')\n",
    "print(f'情報を小出しにされたときの自己情報量：{i_3mul + i_even: .3g}')"
   ]
  },
  {
   "cell_type": "markdown",
   "id": "aboriginal-premises",
   "metadata": {},
   "source": [
    "## 5.5.5 Python実装：計算方法の確認"
   ]
  },
  {
   "cell_type": "code",
   "execution_count": 5,
   "id": "indian-dressing",
   "metadata": {},
   "outputs": [
    {
     "data": {
      "text/plain": [
       "好況    0.4\n",
       "不況    0.6\n",
       "dtype: float64"
      ]
     },
     "execution_count": 5,
     "metadata": {},
     "output_type": "execute_result"
    }
   ],
   "source": [
    "# 好況と不況の確率\n",
    "prob_state = pd.Series([0.4, 0.6])\n",
    "prob_state.index = ['好況', '不況']\n",
    "prob_state"
   ]
  },
  {
   "cell_type": "code",
   "execution_count": 6,
   "id": "agricultural-bahamas",
   "metadata": {},
   "outputs": [
    {
     "name": "stdout",
     "output_type": "stream",
     "text": [
      " 0.971\n"
     ]
    }
   ],
   "source": [
    "# エントロピー計算\n",
    "H = prob_state[0] * self_info(prob_state[0]) + \\\n",
    "    prob_state[1] * self_info(prob_state[1])\n",
    "print(f'{H: .3g}')"
   ]
  },
  {
   "cell_type": "markdown",
   "id": "enabling-omaha",
   "metadata": {},
   "source": [
    "## 5.5.6 Python実装：効率的な実装"
   ]
  },
  {
   "cell_type": "code",
   "execution_count": 7,
   "id": "confirmed-nature",
   "metadata": {},
   "outputs": [],
   "source": [
    "from scipy.stats import entropy"
   ]
  },
  {
   "cell_type": "code",
   "execution_count": 8,
   "id": "lasting-vietnam",
   "metadata": {},
   "outputs": [
    {
     "name": "stdout",
     "output_type": "stream",
     "text": [
      "0.971\n"
     ]
    }
   ],
   "source": [
    "H_stats = entropy(prob_state, base = 2)\n",
    "print(f'{H_stats:.3g}')"
   ]
  },
  {
   "cell_type": "code",
   "execution_count": 9,
   "id": "encouraging-florist",
   "metadata": {},
   "outputs": [
    {
     "name": "stdout",
     "output_type": "stream",
     "text": [
      "0.971\n"
     ]
    }
   ],
   "source": [
    "# 確率の合計が1になっていない場合は，勝手に標準化される\n",
    "H_normalize = entropy(pd.Series([0.2, 0.3]), base=2)\n",
    "print(f'{H_normalize:.3g}')"
   ]
  },
  {
   "cell_type": "markdown",
   "id": "corrected-spice",
   "metadata": {},
   "source": [
    "## 5.6 情報エントロピーの性質"
   ]
  },
  {
   "cell_type": "code",
   "execution_count": 10,
   "id": "corporate-access",
   "metadata": {},
   "outputs": [
    {
     "name": "stdout",
     "output_type": "stream",
     "text": [
      "    p1   p2\n",
      "0  0.0  1.0\n",
      "1  0.1  0.9\n",
      "2  0.2  0.8\n"
     ]
    }
   ],
   "source": [
    "# 11種類の確率分布を作る\n",
    "prob_df = pd.DataFrame({\n",
    "    'p1': np.arange(start=0, stop=1.1, step=0.1), \n",
    "    'p2': 1 - np.arange(start=0, stop=1.1, step=0.1)\n",
    "})\n",
    "print(prob_df.head(3))"
   ]
  },
  {
   "cell_type": "code",
   "execution_count": 11,
   "id": "little-testing",
   "metadata": {},
   "outputs": [
    {
     "name": "stdout",
     "output_type": "stream",
     "text": [
      "    p1   p2  entropy\n",
      "0  0.0  1.0    0.000\n",
      "1  0.1  0.9    0.469\n",
      "2  0.2  0.8    0.722\n"
     ]
    }
   ],
   "source": [
    "# エントロピーの列を作る\n",
    "prob_df['entropy'] = prob_df[['p1', 'p2']].apply(entropy, axis = 1, base = 2)\n",
    "print(prob_df.head(3))"
   ]
  },
  {
   "cell_type": "code",
   "execution_count": 12,
   "id": "clinical-mumbai",
   "metadata": {},
   "outputs": [
    {
     "data": {
      "text/plain": [
       "<AxesSubplot:xlabel='p1'>"
      ]
     },
     "execution_count": 12,
     "metadata": {},
     "output_type": "execute_result"
    },
    {
     "data": {
      "image/png": "[encoded data removed]",
      "text/plain": [
       "<Figure size 432x288 with 1 Axes>"
      ]
     },
     "metadata": {
      "needs_background": "light"
     },
     "output_type": "display_data"
    }
   ],
   "source": [
    "prob_df.plot(x = 'p1', y = 'entropy')"
   ]
  },
  {
   "cell_type": "code",
   "execution_count": null,
   "id": "honey-mouse",
   "metadata": {},
   "outputs": [],
   "source": []
  }
 ],
 "metadata": {
  "kernelspec": {
   "display_name": "Python 3",
   "language": "python",
   "name": "python3"
  },
  "language_info": {
   "codemirror_mode": {
    "name": "ipython",
    "version": 3
   },
   "file_extension": ".py",
   "mimetype": "text/x-python",
   "name": "python",
   "nbconvert_exporter": "python",
   "pygments_lexer": "ipython3",
   "version": "3.9.14"
  }
 },
 "nbformat": 4,
 "nbformat_minor": 5
}
